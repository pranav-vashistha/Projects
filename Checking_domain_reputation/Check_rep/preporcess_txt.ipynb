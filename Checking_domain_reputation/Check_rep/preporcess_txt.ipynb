{
 "cells": [
  {
   "cell_type": "markdown",
   "metadata": {},
   "source": [
    "keep lists.txt and downloading folder separate\n"
   ]
  },
  {
   "cell_type": "code",
   "execution_count": 1,
   "metadata": {},
   "outputs": [
    {
     "name": "stdout",
     "output_type": "stream",
     "text": [
      "First 9 lines removed and rewritten successfully.\n",
      "First 9 lines removed and rewritten successfully.\n"
     ]
    }
   ],
   "source": [
    "\n",
    "def remove_and_rewrite(filename):\n",
    "    # Open the file for reading\n",
    "    with open(filename, 'r') as f:\n",
    "        # Read all lines from the file\n",
    "        lines = f.readlines()\n",
    "\n",
    "    # Check if there are at least 9 lines\n",
    "    if len(lines) >= 9:\n",
    "        # Remove the first 9 lines\n",
    "        new_lines = lines[9:]\n",
    "        # Open the file for writing\n",
    "        with open(filename, 'w') as f:\n",
    "            # Write the new lines back into the file\n",
    "            for line in new_lines:\n",
    "                f.write(line)\n",
    "                f.write('\\n')\n",
    "        print(\"First 9 lines removed and rewritten successfully.\")\n",
    "    else:\n",
    "        print(\"File contains less than 9 lines. Nothing was removed.\")\n",
    "\n",
    "# Example usage:\n",
    "file_path = 'D:\\\\Jupyter notebooks\\\\Check_rep\\\\list5.txt'\n",
    "file_path1 = 'D:\\\\Jupyter notebooks\\\\Check_rep\\\\list16.txt'  # Change this to the path of your file\n",
    "remove_and_rewrite(file_path)\n",
    "remove_and_rewrite(file_path1)"
   ]
  },
  {
   "cell_type": "code",
   "execution_count": 2,
   "metadata": {},
   "outputs": [],
   "source": [
    "import pandas as pd\n",
    "df1 = pd.read_csv(\"D:\\\\Jupyter notebooks\\\\Check_rep\\\\list1.txt\",sep = '\\t',header = None)\n",
    "df2 = pd.read_csv(\"D:\\\\Jupyter notebooks\\\\Check_rep\\\\list2.txt\",sep = '\\t',header = None)\n",
    "df3 = pd.read_csv(\"D:\\\\Jupyter notebooks\\\\Check_rep\\\\list3.txt\",sep = '\\t',header = None)\n",
    "df4 = pd.read_csv(\"D:\\\\Jupyter notebooks\\\\Check_rep\\\\list4.txt\",sep = '\\t',header = None)\n",
    "df5 = pd.read_csv(\"D:\\\\Jupyter notebooks\\\\Check_rep\\\\list5.txt\",sep = '\\t',header = None)\n",
    "df6 = pd.read_csv(\"D:\\\\Jupyter notebooks\\\\Check_rep\\\\list6.txt\",sep = '\\t',header = None)\n",
    "df7 = pd.read_csv(\"D:\\\\Jupyter notebooks\\\\Check_rep\\\\list7.txt\",sep = '\\t',header = None)\n",
    "df8 = pd.read_csv(\"D:\\\\Jupyter notebooks\\\\Check_rep\\\\list8.txt\",sep = '\\t',header = None)\n",
    "df9 = pd.read_csv(\"D:\\\\Jupyter notebooks\\\\Check_rep\\\\list9.txt\",sep = '\\t',header = None)\n",
    "df10 = pd.read_csv(\"D:\\\\Jupyter notebooks\\\\Check_rep\\\\list10.txt\",sep = '\\t',header = None)\n",
    "df11 = pd.read_csv(\"D:\\\\Jupyter notebooks\\\\Check_rep\\\\list11.txt\",sep = '\\t',header = None)\n",
    "df12 = pd.read_csv(\"D:\\\\Jupyter notebooks\\\\Check_rep\\\\list12.txt\",sep = '\\t',header = None)\n",
    "df13 = pd.read_csv(\"D:\\\\Jupyter notebooks\\\\Check_rep\\\\list13.txt\",sep = '\\t',header = None)\n",
    "df14 = pd.read_csv(\"D:\\\\Jupyter notebooks\\\\Check_rep\\\\list14.txt\",sep = '\\t',header = None)\n",
    "df15 = pd.read_csv(\"D:\\\\Jupyter notebooks\\\\Check_rep\\\\list15.txt\",sep = '\\t',header = None)\n",
    "df16 = pd.read_csv(\"D:\\\\Jupyter notebooks\\\\Check_rep\\\\list16.txt\",sep = '\\t',header = None)\n",
    "df17 = pd.read_csv(\"D:\\\\Jupyter notebooks\\\\Check_rep\\\\list17.txt\",sep = '\\t',header = None)\n"
   ]
  },
  {
   "cell_type": "code",
   "execution_count": 3,
   "metadata": {},
   "outputs": [
    {
     "name": "stdout",
     "output_type": "stream",
     "text": [
      "(198, 1)\n",
      "(21371, 1)\n",
      "(198, 1)\n",
      "(178, 2)\n",
      "(16280, 1)\n",
      "(2189, 1)\n",
      "(364687, 1)\n",
      "(12213, 2)\n"
     ]
    }
   ],
   "source": [
    "print(df1.shape)\n",
    "print(df3.shape)\n",
    "print(df4.shape)\n",
    "print(df5.shape)\n",
    "print(df7.shape)\n",
    "print(df8.shape)\n",
    "print(df12.shape)\n",
    "print(df16.shape)\n"
   ]
  },
  {
   "cell_type": "code",
   "execution_count": 4,
   "metadata": {},
   "outputs": [
    {
     "name": "stdout",
     "output_type": "stream",
     "text": [
      "Index([0, 1], dtype='int64')\n",
      "Index([0, 1], dtype='int64')\n"
     ]
    }
   ],
   "source": [
    "print(df5.columns)\n",
    "print(df16.columns)"
   ]
  },
  {
   "cell_type": "code",
   "execution_count": 5,
   "metadata": {},
   "outputs": [
    {
     "name": "stdout",
     "output_type": "stream",
     "text": [
      "<bound method NDFrame.head of                                 0  \\\n",
      "0                       127.0.0.1   \n",
      "1                       127.0.0.1   \n",
      "2                       127.0.0.1   \n",
      "3                       127.0.0.1   \n",
      "4                       127.0.0.1   \n",
      "...                           ...   \n",
      "12208                   127.0.0.1   \n",
      "12209                   127.0.0.1   \n",
      "12210                   127.0.0.1   \n",
      "12211                   127.0.0.1   \n",
      "12212  # Number of entries: 12213   \n",
      "\n",
      "                                                       1  \n",
      "0                        www.dq.sched.vip-dk.tdnsvod1.cn  \n",
      "1                                consultantinsurance.net  \n",
      "2                                          minuoddos.top  \n",
      "3                                 53473cm.easyswap.space  \n",
      "4                                           beamazyn.com  \n",
      "...                                                  ...  \n",
      "12208                             dnslog.twittermisc.com  \n",
      "12209  service-bzbl2uq7-1312255927.bj.apigw.tencentcs...  \n",
      "12210                           marmitariasaobernado.com  \n",
      "12211                           contabilidade3irmaos.com  \n",
      "12212                                                NaN  \n",
      "\n",
      "[12213 rows x 2 columns]>\n"
     ]
    }
   ],
   "source": [
    "print(df16.head)"
   ]
  },
  {
   "cell_type": "code",
   "execution_count": 6,
   "metadata": {},
   "outputs": [
    {
     "data": {
      "text/html": [
       "<div>\n",
       "<style scoped>\n",
       "    .dataframe tbody tr th:only-of-type {\n",
       "        vertical-align: middle;\n",
       "    }\n",
       "\n",
       "    .dataframe tbody tr th {\n",
       "        vertical-align: top;\n",
       "    }\n",
       "\n",
       "    .dataframe thead th {\n",
       "        text-align: right;\n",
       "    }\n",
       "</style>\n",
       "<table border=\"1\" class=\"dataframe\">\n",
       "  <thead>\n",
       "    <tr style=\"text-align: right;\">\n",
       "      <th></th>\n",
       "      <th>0</th>\n",
       "    </tr>\n",
       "  </thead>\n",
       "  <tbody>\n",
       "    <tr>\n",
       "      <th>0</th>\n",
       "      <td># Title: Phishing Hosts Blocklist</td>\n",
       "    </tr>\n",
       "    <tr>\n",
       "      <th>1</th>\n",
       "      <td># Updated: 2024-05-09T12:02:07Z</td>\n",
       "    </tr>\n",
       "    <tr>\n",
       "      <th>2</th>\n",
       "      <td># Expires: 1 day (update frequency)</td>\n",
       "    </tr>\n",
       "    <tr>\n",
       "      <th>3</th>\n",
       "      <td># Homepage: https://gitlab.com/malware-filter/...</td>\n",
       "    </tr>\n",
       "    <tr>\n",
       "      <th>4</th>\n",
       "      <td># License: https://gitlab.com/malware-filter/p...</td>\n",
       "    </tr>\n",
       "    <tr>\n",
       "      <th>...</th>\n",
       "      <td>...</td>\n",
       "    </tr>\n",
       "    <tr>\n",
       "      <th>193</th>\n",
       "      <td>0.0.0.0 worker-wispy-pond-dbe4.payag59059.work...</td>\n",
       "    </tr>\n",
       "    <tr>\n",
       "      <th>194</th>\n",
       "      <td>0.0.0.0 ws6.pages.dev</td>\n",
       "    </tr>\n",
       "    <tr>\n",
       "      <th>195</th>\n",
       "      <td>0.0.0.0 wwwapple-id.info</td>\n",
       "    </tr>\n",
       "    <tr>\n",
       "      <th>196</th>\n",
       "      <td>0.0.0.0 xianyu.ee</td>\n",
       "    </tr>\n",
       "    <tr>\n",
       "      <th>197</th>\n",
       "      <td>0.0.0.0 ycvtb23.tokena-imapp.com</td>\n",
       "    </tr>\n",
       "  </tbody>\n",
       "</table>\n",
       "<p>198 rows × 1 columns</p>\n",
       "</div>"
      ],
      "text/plain": [
       "                                                     0\n",
       "0                    # Title: Phishing Hosts Blocklist\n",
       "1                      # Updated: 2024-05-09T12:02:07Z\n",
       "2                  # Expires: 1 day (update frequency)\n",
       "3    # Homepage: https://gitlab.com/malware-filter/...\n",
       "4    # License: https://gitlab.com/malware-filter/p...\n",
       "..                                                 ...\n",
       "193  0.0.0.0 worker-wispy-pond-dbe4.payag59059.work...\n",
       "194                              0.0.0.0 ws6.pages.dev\n",
       "195                           0.0.0.0 wwwapple-id.info\n",
       "196                                  0.0.0.0 xianyu.ee\n",
       "197                   0.0.0.0 ycvtb23.tokena-imapp.com\n",
       "\n",
       "[198 rows x 1 columns]"
      ]
     },
     "execution_count": 6,
     "metadata": {},
     "output_type": "execute_result"
    }
   ],
   "source": [
    "df1.head(1000)"
   ]
  },
  {
   "cell_type": "code",
   "execution_count": 7,
   "metadata": {},
   "outputs": [],
   "source": [
    "df1.columns = ['Domain']\n",
    "df5.columns = [1,'Domain']\n",
    "df5.drop(columns = [1],inplace = True)\n",
    "df4.columns = ['Domain']\n",
    "df3.columns = ['Domain']\n",
    "df7.columns = ['Domain']\n",
    "df8.columns = ['Domain']\n",
    "df16.columns = [1,'Domain']\n",
    "df16.drop(columns = [1],inplace = True)\n",
    "df12.columns = ['Domain']"
   ]
  },
  {
   "cell_type": "code",
   "execution_count": 8,
   "metadata": {},
   "outputs": [
    {
     "name": "stdout",
     "output_type": "stream",
     "text": [
      "                                                Domain  \\\n",
      "0                    # Title: Phishing Hosts Blocklist   \n",
      "1                      # Updated: 2024-05-09T12:02:07Z   \n",
      "2                  # Expires: 1 day (update frequency)   \n",
      "3    # Homepage: https://gitlab.com/malware-filter/...   \n",
      "4    # License: https://gitlab.com/malware-filter/p...   \n",
      "..                                                 ...   \n",
      "193  0.0.0.0 worker-wispy-pond-dbe4.payag59059.work...   \n",
      "194                              0.0.0.0 ws6.pages.dev   \n",
      "195                           0.0.0.0 wwwapple-id.info   \n",
      "196                                  0.0.0.0 xianyu.ee   \n",
      "197                   0.0.0.0 ycvtb23.tokena-imapp.com   \n",
      "\n",
      "                                       Cleaned Domains  \n",
      "0                    # Title: Phishing Hosts Blocklist  \n",
      "1                      # Updated: 2024-05-09T12:02:07Z  \n",
      "2                  # Expires: 1 day (update frequency)  \n",
      "3    # Homepage: https://gitlab.com/malware-filter/...  \n",
      "4    # License: https://gitlab.com/malware-filter/p...  \n",
      "..                                                 ...  \n",
      "193      worker-wispy-pond-dbe4.payag59059.workers.dev  \n",
      "194                                      ws6.pages.dev  \n",
      "195                                   wwwapple-id.info  \n",
      "196                                          xianyu.ee  \n",
      "197                           ycvtb23.tokena-imapp.com  \n",
      "\n",
      "[198 rows x 2 columns]\n"
     ]
    }
   ],
   "source": [
    "# Function to clean domain names\n",
    "def clean_domain(domain):\n",
    "    if domain.startswith(\"0.0.0.0 \"):\n",
    "        return domain.lstrip(\"0.0.0.0 \").rstrip(\"\")\n",
    "    else:\n",
    "        return domain.lstrip(\"\").rstrip(\"\")\n",
    "\n",
    "# Apply the clean_domain function to each element in the 'Domains' column\n",
    "df1['Cleaned Domains'] = df1['Domain'].apply(lambda x: clean_domain(x))\n",
    "\n",
    "# Print the DataFrame with cleaned domain names\n",
    "print(df1)\n"
   ]
  },
  {
   "cell_type": "code",
   "execution_count": 9,
   "metadata": {},
   "outputs": [
    {
     "name": "stdout",
     "output_type": "stream",
     "text": [
      "                                                  Domain  \\\n",
      "0      # Title: 💊 Dandelion Sprout's Anti-Malware Lis...   \n",
      "1                                      # Expires: 2 days   \n",
      "2      # Description: This list goes the extra kilome...   \n",
      "3                                          !#if !env_mv3   \n",
      "4                        # ——— Bad top-level domains ———   \n",
      "...                                                  ...   \n",
      "21366                                            !#endif   \n",
      "21367                                            !#endif   \n",
      "21368                                   !#if !ext_ublock   \n",
      "21369  !#include uBO%20list%20extensions/Dandelion%20...   \n",
      "21370                                            !#endif   \n",
      "\n",
      "                                         Cleaned Domains  \n",
      "0      # Title: 💊 Dandelion Sprout's Anti-Malware Lis...  \n",
      "1                                      # Expires: 2 days  \n",
      "2      # Description: This list goes the extra kilome...  \n",
      "3                                          !#if !env_mv3  \n",
      "4                        # ——— Bad top-level domains ———  \n",
      "...                                                  ...  \n",
      "21366                                            !#endif  \n",
      "21367                                            !#endif  \n",
      "21368                                   !#if !ext_ublock  \n",
      "21369  !#include uBO%20list%20extensions/Dandelion%20...  \n",
      "21370                                            !#endif  \n",
      "\n",
      "[21371 rows x 2 columns]\n"
     ]
    }
   ],
   "source": [
    "# Function to clean domain names\n",
    "def clean_domain(domain):\n",
    "    if domain.startswith(\"127.0.0.1 \"):\n",
    "        return domain.lstrip(\"127.0.0.1 \").rstrip(\"\")\n",
    "    else:\n",
    "        return domain.lstrip(\"\").rstrip(\"\")\n",
    "\n",
    "# Apply the clean_domain function to each element in the 'Domains' column\n",
    "df3['Cleaned Domains'] = df3['Domain'].apply(lambda x: clean_domain(x))\n",
    "\n",
    "# Print the DataFrame with cleaned domain names\n",
    "print(df3)\n"
   ]
  },
  {
   "cell_type": "code",
   "execution_count": 10,
   "metadata": {},
   "outputs": [
    {
     "name": "stdout",
     "output_type": "stream",
     "text": [
      "                                                Domain  \\\n",
      "0                    # Title: Phishing Hosts Blocklist   \n",
      "1                      # Updated: 2024-05-09T12:02:07Z   \n",
      "2                  # Expires: 1 day (update frequency)   \n",
      "3    # Homepage: https://gitlab.com/malware-filter/...   \n",
      "4    # License: https://gitlab.com/malware-filter/p...   \n",
      "..                                                 ...   \n",
      "193  0.0.0.0 worker-wispy-pond-dbe4.payag59059.work...   \n",
      "194                              0.0.0.0 ws6.pages.dev   \n",
      "195                           0.0.0.0 wwwapple-id.info   \n",
      "196                                  0.0.0.0 xianyu.ee   \n",
      "197                   0.0.0.0 ycvtb23.tokena-imapp.com   \n",
      "\n",
      "                                       Cleaned Domains  \n",
      "0                    # Title: Phishing Hosts Blocklist  \n",
      "1                      # Updated: 2024-05-09T12:02:07Z  \n",
      "2                  # Expires: 1 day (update frequency)  \n",
      "3    # Homepage: https://gitlab.com/malware-filter/...  \n",
      "4    # License: https://gitlab.com/malware-filter/p...  \n",
      "..                                                 ...  \n",
      "193      worker-wispy-pond-dbe4.payag59059.workers.dev  \n",
      "194                                      ws6.pages.dev  \n",
      "195                                   wwwapple-id.info  \n",
      "196                                          xianyu.ee  \n",
      "197                           ycvtb23.tokena-imapp.com  \n",
      "\n",
      "[198 rows x 2 columns]\n"
     ]
    }
   ],
   "source": [
    "# Function to clean domain names\n",
    "def clean_domain(domain):\n",
    "    if domain.startswith(\"0.0.0.0\"):\n",
    "        return domain.lstrip(\"0.0.0.0\").rstrip(\"\")\n",
    "    else:\n",
    "        return domain.lstrip(\"\").rstrip(\"\")\n",
    "\n",
    "# Apply the clean_domain function to each element in the 'Domains' column\n",
    "df4['Cleaned Domains'] = df4['Domain'].apply(lambda x: clean_domain(x))\n",
    "\n",
    "# Print the DataFrame with cleaned domain names\n",
    "print(df4)\n"
   ]
  },
  {
   "cell_type": "code",
   "execution_count": 11,
   "metadata": {},
   "outputs": [
    {
     "name": "stdout",
     "output_type": "stream",
     "text": [
      "                                                  Domain  \\\n",
      "0      # Prigent-Crypto, parsed and mirrored by https...   \n",
      "1      # Updated 08MAY24 from https://dsi.ut-capitole...   \n",
      "2      # If your issue IS STILL PRESENT when using uB...   \n",
      "3                                     0.0.0.0adminer.com   \n",
      "4                                  0.0.0.0adminka-pro.ru   \n",
      "...                                                  ...   \n",
      "16275                                      zzvjaqnkq.bid   \n",
      "16276                          cloudcdn.g000.0x1f4b0.com   \n",
      "16277                        zyngablog.api.bin2giga.link   \n",
      "16278                            cloudcdn000.0x1f4b0.com   \n",
      "16279                                  zyngabl2giga.link   \n",
      "\n",
      "                                         Cleaned Domains  \n",
      "0      # Prigent-Crypto, parsed and mirrored by https...  \n",
      "1      # Updated 08MAY24 from https://dsi.ut-capitole...  \n",
      "2      # If your issue IS STILL PRESENT when using uB...  \n",
      "3                                            adminer.com  \n",
      "4                                         adminka-pro.ru  \n",
      "...                                                  ...  \n",
      "16275                                      zzvjaqnkq.bid  \n",
      "16276                          cloudcdn.g000.0x1f4b0.com  \n",
      "16277                        zyngablog.api.bin2giga.link  \n",
      "16278                            cloudcdn000.0x1f4b0.com  \n",
      "16279                                  zyngabl2giga.link  \n",
      "\n",
      "[16280 rows x 2 columns]\n"
     ]
    }
   ],
   "source": [
    "# Function to clean domain names\n",
    "def clean_domain(domain):\n",
    "    if domain.startswith(\"0.0.0.0\"):\n",
    "        return domain.lstrip(\"0.0.0.0\").rstrip(\"\")\n",
    "    else:\n",
    "        return domain.lstrip(\"\").rstrip(\"\")\n",
    "\n",
    "# Apply the clean_domain function to each element in the 'Domains' column\n",
    "df7['Cleaned Domains'] = df7['Domain'].apply(lambda x: clean_domain(x))\n",
    "\n",
    "# Print the DataFrame with cleaned domain names\n",
    "print(df7)\n"
   ]
  },
  {
   "cell_type": "code",
   "execution_count": 12,
   "metadata": {},
   "outputs": [
    {
     "name": "stdout",
     "output_type": "stream",
     "text": [
      "                              Domain         Cleaned Domains\n",
      "0                0.0.0.0 0.r.msn.com               r.msn.com\n",
      "1          0.0.0.0 050003.voodoo.com        50003.voodoo.com\n",
      "2          0.0.0.0 050005.voodoo.com        50005.voodoo.com\n",
      "3       0.0.0.0 0koryu0.easter.ne.jp     koryu0.easter.ne.jp\n",
      "4             0.0.0.0 1001movies.com          1001movies.com\n",
      "...                              ...                     ...\n",
      "2184          0.0.0.0 zootoplist.com          zootoplist.com\n",
      "2185           0.0.0.0 zootravel.com           zootravel.com\n",
      "2186  0.0.0.0 zr1.zeroredirect11.com  zr1.zeroredirect11.com\n",
      "2187   0.0.0.0 zs1.zeroredirect1.com   zs1.zeroredirect1.com\n",
      "2188            0.0.0.0 zuverink.net            zuverink.net\n",
      "\n",
      "[2189 rows x 2 columns]\n"
     ]
    }
   ],
   "source": [
    "# Function to clean domain names\n",
    "def clean_domain(domain):\n",
    "    if domain.startswith(\"0.0.0.0 \"):\n",
    "        return domain.lstrip(\"0.0.0.0 \").rstrip(\"\")\n",
    "    else:\n",
    "        return domain.lstrip(\"\").rstrip(\"\")\n",
    "\n",
    "# Apply the clean_domain function to each element in the 'Domains' column\n",
    "df8['Cleaned Domains'] = df8['Domain'].apply(lambda x: clean_domain(x))\n",
    "\n",
    "# Print the DataFrame with cleaned domain names\n",
    "print(df8)\n"
   ]
  },
  {
   "cell_type": "code",
   "execution_count": 13,
   "metadata": {},
   "outputs": [
    {
     "name": "stdout",
     "output_type": "stream",
     "text": [
      "                                                   Domain  \\\n",
      "0       # RPiList-Malware, parsed and mirrored by http...   \n",
      "1       # Updated 08MAY24 from https://raw.githubuserc...   \n",
      "2       # If your issue IS STILL PRESENT when using uB...   \n",
      "3        ||0-0-0-birkart-clws-ifs-globalmn.net.daraz.com^   \n",
      "4                            ||0-0-stagemn.net.daraz.com^   \n",
      "...                                                   ...   \n",
      "364682                                  ||zzychatgpt.top^   \n",
      "364683           ||zzychatgpt.zzyzzy12208743.workers.dev^   \n",
      "364684                         ||zzyyqqchatgpt.best1.top^   \n",
      "364685                                 ||zzzmen99.had.su^   \n",
      "364686  ||zzzzzzweappng-sit-app-001.portalid19.dmitryr...   \n",
      "\n",
      "                                          Cleaned Domains  \n",
      "0       # RPiList-Malware, parsed and mirrored by http...  \n",
      "1       # Updated 08MAY24 from https://raw.githubuserc...  \n",
      "2       # If your issue IS STILL PRESENT when using uB...  \n",
      "3           0-0-0-birkart-clws-ifs-globalmn.net.daraz.com  \n",
      "4                               0-0-stagemn.net.daraz.com  \n",
      "...                                                   ...  \n",
      "364682                                     zzychatgpt.top  \n",
      "364683              zzychatgpt.zzyzzy12208743.workers.dev  \n",
      "364684                            zzyyqqchatgpt.best1.top  \n",
      "364685                                    zzzmen99.had.su  \n",
      "364686  zzzzzzweappng-sit-app-001.portalid19.dmitryrae...  \n",
      "\n",
      "[364687 rows x 2 columns]\n"
     ]
    }
   ],
   "source": [
    "# Function to clean domain names\n",
    "def clean_domain(domain):\n",
    "    if domain.startswith(\"||\"):\n",
    "        return domain.lstrip(\"||\").rstrip(\"^\")\n",
    "    else:\n",
    "        return domain.lstrip(\"\").rstrip(\"\")\n",
    "\n",
    "# Apply the clean_domain function to each element in the 'Domains' column\n",
    "df12['Cleaned Domains'] = df12['Domain'].apply(lambda x: clean_domain(x))\n",
    "\n",
    "# Print the DataFrame with cleaned domain names\n",
    "print(df12)\n"
   ]
  },
  {
   "cell_type": "code",
   "execution_count": 14,
   "metadata": {},
   "outputs": [
    {
     "data": {
      "text/html": [
       "<div>\n",
       "<style scoped>\n",
       "    .dataframe tbody tr th:only-of-type {\n",
       "        vertical-align: middle;\n",
       "    }\n",
       "\n",
       "    .dataframe tbody tr th {\n",
       "        vertical-align: top;\n",
       "    }\n",
       "\n",
       "    .dataframe thead th {\n",
       "        text-align: right;\n",
       "    }\n",
       "</style>\n",
       "<table border=\"1\" class=\"dataframe\">\n",
       "  <thead>\n",
       "    <tr style=\"text-align: right;\">\n",
       "      <th></th>\n",
       "      <th>Domain</th>\n",
       "    </tr>\n",
       "  </thead>\n",
       "  <tbody>\n",
       "    <tr>\n",
       "      <th>0</th>\n",
       "      <td>www.dq.sched.vip-dk.tdnsvod1.cn</td>\n",
       "    </tr>\n",
       "    <tr>\n",
       "      <th>1</th>\n",
       "      <td>consultantinsurance.net</td>\n",
       "    </tr>\n",
       "    <tr>\n",
       "      <th>2</th>\n",
       "      <td>minuoddos.top</td>\n",
       "    </tr>\n",
       "    <tr>\n",
       "      <th>3</th>\n",
       "      <td>53473cm.easyswap.space</td>\n",
       "    </tr>\n",
       "    <tr>\n",
       "      <th>4</th>\n",
       "      <td>beamazyn.com</td>\n",
       "    </tr>\n",
       "    <tr>\n",
       "      <th>...</th>\n",
       "      <td>...</td>\n",
       "    </tr>\n",
       "    <tr>\n",
       "      <th>995</th>\n",
       "      <td>cleaninghouseinc.com</td>\n",
       "    </tr>\n",
       "    <tr>\n",
       "      <th>996</th>\n",
       "      <td>service-b7okr3qc-1300276284.nj.tencentapigw.com</td>\n",
       "    </tr>\n",
       "    <tr>\n",
       "      <th>997</th>\n",
       "      <td>dd.nnmm234.com</td>\n",
       "    </tr>\n",
       "    <tr>\n",
       "      <th>998</th>\n",
       "      <td>dd.xxcc789.com</td>\n",
       "    </tr>\n",
       "    <tr>\n",
       "      <th>999</th>\n",
       "      <td>dd.jjkk567.com</td>\n",
       "    </tr>\n",
       "  </tbody>\n",
       "</table>\n",
       "<p>1000 rows × 1 columns</p>\n",
       "</div>"
      ],
      "text/plain": [
       "                                              Domain\n",
       "0                    www.dq.sched.vip-dk.tdnsvod1.cn\n",
       "1                            consultantinsurance.net\n",
       "2                                      minuoddos.top\n",
       "3                             53473cm.easyswap.space\n",
       "4                                       beamazyn.com\n",
       "..                                               ...\n",
       "995                             cleaninghouseinc.com\n",
       "996  service-b7okr3qc-1300276284.nj.tencentapigw.com\n",
       "997                                   dd.nnmm234.com\n",
       "998                                   dd.xxcc789.com\n",
       "999                                   dd.jjkk567.com\n",
       "\n",
       "[1000 rows x 1 columns]"
      ]
     },
     "execution_count": 14,
     "metadata": {},
     "output_type": "execute_result"
    }
   ],
   "source": [
    "df16.head(1000)"
   ]
  },
  {
   "cell_type": "code",
   "execution_count": 15,
   "metadata": {},
   "outputs": [],
   "source": [
    "df1.drop(columns = ['Domain'],inplace = True)\n",
    "df3.drop(columns = ['Domain'],inplace = True)\n",
    "df4.drop(columns = ['Domain'],inplace = True)\n",
    "df7.drop(columns = ['Domain'],inplace = True)\n",
    "df8.drop(columns = ['Domain'],inplace = True)\n",
    "df12.drop(columns = ['Domain'],inplace = True)\n"
   ]
  },
  {
   "cell_type": "code",
   "execution_count": 16,
   "metadata": {},
   "outputs": [],
   "source": [
    "df1.columns = ['Domain']\n",
    "df3.columns = ['Domain']\n",
    "df4.columns = ['Domain']\n",
    "df7.columns = ['Domain']\n",
    "df8.columns = ['Domain']\n",
    "df12.columns = ['Domain']\n"
   ]
  },
  {
   "cell_type": "code",
   "execution_count": 17,
   "metadata": {},
   "outputs": [],
   "source": [
    "df1 = df1.iloc[6:]\n",
    "df2 = df2.iloc[5:]\n",
    "df3 = df3.iloc[45:]\n",
    "df4 = df4.iloc[6:]\n",
    "df6 = df6.iloc[11:]\n",
    "df7 = df7.iloc[5:]\n",
    "df10 = df10.iloc[13:]\n",
    "df11 = df11.iloc[11:]\n",
    "df12 = df12.iloc[5:]\n"
   ]
  },
  {
   "cell_type": "code",
   "execution_count": 18,
   "metadata": {},
   "outputs": [
    {
     "name": "stdout",
     "output_type": "stream",
     "text": [
      "Index(['Domain'], dtype='object')\n",
      "Index(['Domain'], dtype='object')\n",
      "Index(['Domain'], dtype='object')\n",
      "Index(['Domain'], dtype='object')\n",
      "Index(['Domain'], dtype='object')\n",
      "Index(['Domain'], dtype='object')\n",
      "Index(['Domain'], dtype='object')\n",
      "Index(['Domain'], dtype='object')\n"
     ]
    }
   ],
   "source": [
    "print(df1.columns)\n",
    "print(df3.columns)\n",
    "print(df4.columns)\n",
    "print(df5.columns)\n",
    "print(df7.columns)\n",
    "print(df8.columns)\n",
    "print(df12.columns)\n",
    "print(df16.columns)\n"
   ]
  },
  {
   "cell_type": "code",
   "execution_count": 19,
   "metadata": {},
   "outputs": [],
   "source": [
    "\n",
    "# Save each dataframe to a separate text file\n",
    "df1.to_csv('D:\\\\Jupyter notebooks\\\\Check_rep\\\\list1.txt', sep='\\t', index=False)\n",
    "df2.to_csv('D:\\\\Jupyter notebooks\\\\Check_rep\\\\list2.txt', sep='\\t', index=False)\n",
    "df3.to_csv('D:\\\\Jupyter notebooks\\\\Check_rep\\\\list3.txt', sep='\\t', index=False)\n",
    "df4.to_csv('D:\\\\Jupyter notebooks\\\\Check_rep\\\\list4.txt', sep='\\t', index=False)\n",
    "df5.to_csv('D:\\\\Jupyter notebooks\\\\Check_rep\\\\list5.txt', sep='\\t', index=False)\n",
    "df6.to_csv('D:\\\\Jupyter notebooks\\\\Check_rep\\\\list6.txt', sep='\\t', index=False)\n",
    "df7.to_csv('D:\\\\Jupyter notebooks\\\\Check_rep\\\\list7.txt', sep='\\t', index=False)\n",
    "df8.to_csv('D:\\\\Jupyter notebooks\\\\Check_rep\\\\list8.txt', sep='\\t', index=False)\n",
    "df9.to_csv('D:\\\\Jupyter notebooks\\\\Check_rep\\\\list9.txt', sep='\\t', index=False)\n",
    "df10.to_csv('D:\\\\Jupyter notebooks\\\\Check_rep\\\\list10.txt', sep='\\t', index=False)\n",
    "df11.to_csv('D:\\\\Jupyter notebooks\\\\Check_rep\\\\list11.txt', sep='\\t', index=False)\n",
    "df12.to_csv('D:\\\\Jupyter notebooks\\\\Check_rep\\\\list12.txt', sep='\\t', index=False)\n",
    "df13.to_csv('D:\\\\Jupyter notebooks\\\\Check_rep\\\\list13.txt', sep='\\t', index=False)\n",
    "df14.to_csv('D:\\\\Jupyter notebooks\\\\Check_rep\\\\list14.txt', sep='\\t', index=False)\n",
    "df15.to_csv('D:\\\\Jupyter notebooks\\\\Check_rep\\\\list15.txt', sep='\\t', index=False)\n",
    "df16.to_csv('D:\\\\Jupyter notebooks\\\\Check_rep\\\\list16.txt', sep='\\t', index=False)\n",
    "df17.to_csv('D:\\\\Jupyter notebooks\\\\Check_rep\\\\list17.txt', sep='\\t', index=False)\n"
   ]
  },
  {
   "cell_type": "code",
   "execution_count": null,
   "metadata": {},
   "outputs": [],
   "source": []
  }
 ],
 "metadata": {
  "kernelspec": {
   "display_name": "Python 3",
   "language": "python",
   "name": "python3"
  },
  "language_info": {
   "codemirror_mode": {
    "name": "ipython",
    "version": 3
   },
   "file_extension": ".py",
   "mimetype": "text/x-python",
   "name": "python",
   "nbconvert_exporter": "python",
   "pygments_lexer": "ipython3",
   "version": "3.10.2"
  }
 },
 "nbformat": 4,
 "nbformat_minor": 2
}
